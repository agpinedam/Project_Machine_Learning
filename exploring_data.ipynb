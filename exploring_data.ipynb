{
 "cells": [
  {
   "cell_type": "markdown",
   "metadata": {},
   "source": [
    "## Library imports\n",
    "\n",
    "This section will contain the libraries for the development of the project."
   ]
  },
  {
   "cell_type": "code",
   "execution_count": 2,
   "metadata": {},
   "outputs": [],
   "source": [
    "import pandas as pd"
   ]
  },
  {
   "cell_type": "markdown",
   "metadata": {},
   "source": [
    "## Initial data exploration\n",
    "\n",
    "A first review of the dataset will be performed in order to know its general structure, distribution of values and main characteristics. In addition, the quality of the information will be evaluated by detecting missing values, inconsistent data types and possible duplicates."
   ]
  },
  {
   "cell_type": "code",
   "execution_count": 3,
   "metadata": {},
   "outputs": [
    {
     "name": "stdout",
     "output_type": "stream",
     "text": [
      "<class 'pandas.core.frame.DataFrame'>\n",
      "RangeIndex: 1303 entries, 0 to 1302\n",
      "Data columns (total 13 columns):\n",
      " #   Column            Non-Null Count  Dtype  \n",
      "---  ------            --------------  -----  \n",
      " 0   laptop_ID         1303 non-null   int64  \n",
      " 1   Company           1303 non-null   object \n",
      " 2   Product           1303 non-null   object \n",
      " 3   TypeName          1303 non-null   object \n",
      " 4   Inches            1303 non-null   float64\n",
      " 5   ScreenResolution  1303 non-null   object \n",
      " 6   Cpu               1303 non-null   object \n",
      " 7   Ram               1303 non-null   object \n",
      " 8   Memory            1303 non-null   object \n",
      " 9   Gpu               1303 non-null   object \n",
      " 10  OpSys             1303 non-null   object \n",
      " 11  Weight            1303 non-null   object \n",
      " 12  Price_euros       1303 non-null   float64\n",
      "dtypes: float64(2), int64(1), object(10)\n",
      "memory usage: 132.5+ KB\n",
      "None\n",
      "         laptop_ID       Inches  Price_euros\n",
      "count  1303.000000  1303.000000  1303.000000\n",
      "mean    660.155794    15.017191  1123.686992\n",
      "std     381.172104     1.426304   699.009043\n",
      "min       1.000000    10.100000   174.000000\n",
      "25%     331.500000    14.000000   599.000000\n",
      "50%     659.000000    15.600000   977.000000\n",
      "75%     990.500000    15.600000  1487.880000\n",
      "max    1320.000000    18.400000  6099.000000\n",
      "laptop_ID           0\n",
      "Company             0\n",
      "Product             0\n",
      "TypeName            0\n",
      "Inches              0\n",
      "ScreenResolution    0\n",
      "Cpu                 0\n",
      "Ram                 0\n",
      "Memory              0\n",
      "Gpu                 0\n",
      "OpSys               0\n",
      "Weight              0\n",
      "Price_euros         0\n",
      "dtype: int64\n"
     ]
    }
   ],
   "source": [
    "df = pd.read_csv(\"laptop_price.csv\")  \n",
    "print(df.info())\n",
    "print(df.describe())\n",
    "print(df.isnull().sum())\n"
   ]
  },
  {
   "cell_type": "markdown",
   "metadata": {},
   "source": []
  }
 ],
 "metadata": {
  "kernelspec": {
   "display_name": "Python 3",
   "language": "python",
   "name": "python3"
  },
  "language_info": {
   "codemirror_mode": {
    "name": "ipython",
    "version": 3
   },
   "file_extension": ".py",
   "mimetype": "text/x-python",
   "name": "python",
   "nbconvert_exporter": "python",
   "pygments_lexer": "ipython3",
   "version": "3.13.2"
  }
 },
 "nbformat": 4,
 "nbformat_minor": 2
}
