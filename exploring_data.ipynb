{
 "cells": [
  {
   "cell_type": "markdown",
   "metadata": {},
   "source": [
    "## Library imports\n",
    "\n",
    "This section will contain the libraries for the development of the project."
   ]
  },
  {
   "cell_type": "code",
   "execution_count": 17,
   "metadata": {},
   "outputs": [],
   "source": [
    "import pandas as pd\n",
    "import seaborn as sns\n",
    "import matplotlib.pyplot as plt"
   ]
  },
  {
   "cell_type": "markdown",
   "metadata": {},
   "source": [
    "## Initial data exploration\n",
    "\n",
    "A first review of the dataset will be performed in order to know its general structure, distribution of values and main characteristics. In addition, the quality of the information will be evaluated by detecting missing values, inconsistent data types and possible duplicates."
   ]
  },
  {
   "cell_type": "code",
   "execution_count": 34,
   "metadata": {},
   "outputs": [
    {
     "name": "stdout",
     "output_type": "stream",
     "text": [
      "\n",
      "Basic informations\n",
      "\n",
      "<class 'pandas.core.frame.DataFrame'>\n",
      "RangeIndex: 2952 entries, 0 to 2951\n",
      "Data columns (total 10 columns):\n",
      " #   Column               Non-Null Count  Dtype  \n",
      "---  ------               --------------  -----  \n",
      " 0   Brand                2952 non-null   object \n",
      " 1   Product_Description  2952 non-null   object \n",
      " 2   Screen_Size          2952 non-null   float64\n",
      " 3   RAM                  2952 non-null   object \n",
      " 4   Processor            2952 non-null   object \n",
      " 5   GPU                  2604 non-null   object \n",
      " 6   GPU_Type             2718 non-null   object \n",
      " 7   Resolution           2565 non-null   object \n",
      " 8   Condition            2952 non-null   object \n",
      " 9   Price                2952 non-null   float64\n",
      "dtypes: float64(2), object(8)\n",
      "memory usage: 230.8+ KB\n",
      "None\n",
      "\n",
      "Summary statistics\n",
      "\n",
      "       Screen_Size        Price\n",
      "count  2952.000000  2952.000000\n",
      "mean     14.550237   517.552805\n",
      "std       1.175322   235.592872\n",
      "min      10.000000     0.000000\n",
      "25%      14.000000   325.990000\n",
      "50%      14.000000   489.990000\n",
      "75%      15.600000   699.000000\n",
      "max      18.000000   999.990000\n",
      "\n",
      "Missing values\n",
      "\n",
      "Brand                    0\n",
      "Product_Description      0\n",
      "Screen_Size              0\n",
      "RAM                      0\n",
      "Processor                0\n",
      "GPU                    348\n",
      "GPU_Type               234\n",
      "Resolution             387\n",
      "Condition                0\n",
      "Price                    0\n",
      "dtype: int64\n",
      "\n",
      "Duplicated rows :  0\n",
      "\n"
     ]
    }
   ],
   "source": [
    "df = pd.read_csv('cleaned.csv')  \n",
    "\n",
    "print('\\nBasic informations\\n')\n",
    "print(df.info())\n",
    "print('\\nSummary statistics\\n')\n",
    "print(df.describe())\n",
    "print('\\nMissing values\\n')\n",
    "print(df.isnull().sum())\n",
    "print('\\nDuplicated rows : ', df.duplicated().sum())\n",
    "print()"
   ]
  },
  {
   "cell_type": "markdown",
   "metadata": {},
   "source": [
    "### Categorical Variables Overview\n",
    "To better understand categorical variables, we review the Number of unique values and the most frequent categories:"
   ]
  },
  {
   "cell_type": "code",
   "execution_count": null,
   "metadata": {},
   "outputs": [
    {
     "name": "stdout",
     "output_type": "stream",
     "text": [
      "\n",
      "Brand - number of unique values: 25\n",
      "Brand\n",
      "Dell         1109\n",
      "Lenovo        627\n",
      "HP            578\n",
      "Microsoft     197\n",
      "Asus          134\n",
      "Name: count, dtype: int64\n",
      "\n",
      "RAM - number of unique values: 23\n",
      "RAM\n",
      "16    1318\n",
      "8     1185\n",
      "32     273\n",
      "4       84\n",
      "64      47\n",
      "Name: count, dtype: int64\n",
      "\n",
      "Processor - number of unique values: 48\n",
      "Processor\n",
      "Intel Core i5 11th Gen.    450\n",
      "Intel Core i7 11th Gen.    330\n",
      "Intel Core i7 12th Gen.    231\n",
      "Intel Core i5 8th Gen.     223\n",
      "Intel Core i5 10th Gen.    212\n",
      "Name: count, dtype: int64\n",
      "\n",
      "GPU - number of unique values: 220\n",
      "GPU\n",
      "Intel Iris Xe Graphics          998\n",
      "Intel UHD Graphics              468\n",
      "Intel UHD Graphics 620          199\n",
      "Intel HD Graphics                69\n",
      "Intel(R) Iris(R) Xe Graphics     57\n",
      "Name: count, dtype: int64\n",
      "\n",
      "GPU_Type - number of unique values: 8\n",
      "GPU_Type\n",
      "Integrated/On-Board Graphics    2265\n",
      "Dedicated Graphics               445\n",
      "Iris Xe Graphics                   2\n",
      "Integrated                         2\n",
      "Intel UHD Graphics                 1\n",
      "Name: count, dtype: int64\n",
      "\n",
      "Resolution - number of unique values: 54\n",
      "Resolution\n",
      "1920 x 1080    1666\n",
      "1920 x 1200     239\n",
      "1366 x 768      157\n",
      "2560 x 1600      67\n",
      "2256 x 1504      59\n",
      "Name: count, dtype: int64\n",
      "\n",
      "Condition - number of unique values: 5\n",
      "Condition\n",
      "New                        833\n",
      "Open box                   806\n",
      "Very Good - Refurbished    490\n",
      "Good - Refurbished         437\n",
      "Excellent - Refurbished    386\n",
      "Name: count, dtype: int64\n"
     ]
    }
   ],
   "source": [
    "cat_columns = ['Brand', 'RAM', 'Processor', 'GPU', 'GPU_Type', 'Resolution', 'Condition']\n",
    "\n",
    "for col in cat_columns:\n",
    "    if col in df.columns:\n",
    "        print(f'\\n{col} - Number of unique values: {df[col].nunique()}')\n",
    "        print(df[col].value_counts().head())"
   ]
  },
  {
   "cell_type": "markdown",
   "metadata": {},
   "source": [
    "First, we'll make the data in the processor column usable."
   ]
  },
  {
   "cell_type": "code",
   "execution_count": null,
   "metadata": {},
   "outputs": [
    {
     "name": "stdout",
     "output_type": "stream",
     "text": [
      "\n",
      "number of unique values: Processor_brand    2\n",
      "dtype: int64\n",
      "\n",
      "Processor_brand\n",
      "Intel              2893\n",
      "AMD                  59\n",
      "Name: count, dtype: int64\n",
      "\n",
      "number of unique values: Processor_type    8\n",
      "dtype: int64\n",
      "\n",
      "Processor_type\n",
      "Core i5           1386\n",
      "Core i7           1201\n",
      "Core i3            285\n",
      "Ryzen 5             30\n",
      "Core i9             21\n",
      "Ryzen 7             15\n",
      "Ryzen 3              7\n",
      "Ryzen 9              7\n",
      "Name: count, dtype: int64\n",
      "\n",
      "number of unique values: Processor_gen    15\n",
      "dtype: int64\n",
      "\n",
      "Processor_gen\n",
      "11th Gen.        912\n",
      "12th Gen.        474\n",
      "8th Gen.         414\n",
      "10th Gen.        403\n",
      "13th Gen.        284\n",
      "6th Gen.         140\n",
      "7th Gen.          98\n",
      "4th Gen.          93\n",
      "9th Gen.          46\n",
      "7000 Series       34\n",
      "5th Gen.          29\n",
      "5000 Series       13\n",
      "3000 Series        6\n",
      "4000 Series        3\n",
      "6000 Series        3\n",
      "Name: count, dtype: int64\n"
     ]
    }
   ],
   "source": [
    "def split_processor(proc):\n",
    "    parts = proc.split()\n",
    "    brand = parts[0] if len(parts) > 0 else None\n",
    "    type_ = ' '.join(parts[1:3]) if len(parts) >= 3 else None\n",
    "    gen = ' '.join(parts[3:5]) if len(parts) > 3 else None\n",
    "    return pd.Series([brand, type_, gen])\n",
    "\n",
    "df[['Processor_brand', 'Processor_type', 'Processor_gen']] = df['Processor'].apply(split_processor)\n",
    "\n",
    "print(f'\\nNumber of unique values: {df[['Processor_brand']].nunique()}\\n')\n",
    "print(df[['Processor_brand']].value_counts().head())\n",
    "\n",
    "print(f'\\nNumber of unique values: {df[['Processor_type']].nunique()}\\n')\n",
    "print(df[['Processor_type']].value_counts())\n",
    "\n",
    "print(f'\\nNumber of unique values: {df[['Processor_gen']].nunique()}\\n')\n",
    "print(df[['Processor_gen']].value_counts())\n"
   ]
  },
  {
   "cell_type": "markdown",
   "metadata": {},
   "source": [
    "Next, we'll do the same for the GPU column. This is more difficult, as there are several possible entries for the same output. In addition, we'll be looking for the processor brand for integrated GPUs, and have to deal with null values."
   ]
  },
  {
   "cell_type": "code",
   "execution_count": null,
   "metadata": {},
   "outputs": [
    {
     "name": "stdout",
     "output_type": "stream",
     "text": [
      "\n",
      "number of unique values before processing: GPU_brand    23\n",
      "dtype: int64\n",
      "\n",
      "\n",
      "Number of unique values: GPU_brand    4\n",
      "dtype: int64\n",
      "\n",
      "\n",
      "Missing values 348\n",
      "GPU_brand\n",
      "Intel        2145\n",
      "NVIDIA        370\n",
      "AMD            88\n",
      "Microsoft       1\n",
      "Name: count, dtype: int64\n",
      "Series([], Name: count, dtype: int64)\n",
      "\n",
      "GPU_Type - valeurs uniques : [None]\n",
      "Series([], Name: count, dtype: int64)\n"
     ]
    }
   ],
   "source": [
    "def get_gpu_brand(gpu):\n",
    "    if pd.isna(gpu):\n",
    "        return None\n",
    "    return gpu.split()[0]\n",
    "\n",
    "df['GPU_brand'] = df['GPU'].apply(get_gpu_brand)\n",
    "print(f'\\nnumber of unique values before processing: {df[['GPU_brand']].nunique()}\\n')\n",
    "def clean_gpu_brand(raw):\n",
    "    if pd.isna(raw):\n",
    "        return None\n",
    "    first_word = raw.split()[0].lower().replace('(r)', '').replace('®', '').strip()\n",
    "\n",
    "    mapping = {\n",
    "        'intel': 'Intel',\n",
    "        'nvidia': 'NVIDIA',\n",
    "        'amd': 'AMD',\n",
    "        'radeon': 'AMD',\n",
    "        'iris': 'Intel',\n",
    "        'microsoft': 'Microsoft',\n",
    "        'integrated': 'Integrated',\n",
    "        'skylake': 'Intel',\n",
    "        'invidia': 'NVIDIA',\n",
    "        'nvdia': 'NVIDIA',\n",
    "        'i5-8250u': 'Intel'\n",
    "    }\n",
    "\n",
    "    return mapping.get(first_word, first_word.title())\n",
    "\n",
    "df['GPU_brand'] = df['GPU'].apply(clean_gpu_brand)\n",
    "df['GPU_brand'] = df.apply(lambda row: row['Processor_brand'] if row['GPU_brand'] == 'Integrated' else row['GPU_brand'], axis=1)\n",
    "print(f'\\nNumber of unique values: {df[['GPU_brand']].nunique()}\\n')\n",
    "print(f'\\nMissing values {df['GPU_brand'].isnull().sum()}')\n",
    "print(df['GPU_brand'].value_counts())"
   ]
  },
  {
   "cell_type": "markdown",
   "metadata": {},
   "source": [
    "## Exploratory Data Analysis (EDA)\n",
    "Price distribution"
   ]
  }
 ],
 "metadata": {
  "kernelspec": {
   "display_name": ".venv",
   "language": "python",
   "name": "python3"
  },
  "language_info": {
   "codemirror_mode": {
    "name": "ipython",
    "version": 3
   },
   "file_extension": ".py",
   "mimetype": "text/x-python",
   "name": "python",
   "nbconvert_exporter": "python",
   "pygments_lexer": "ipython3",
   "version": "3.13.3"
  }
 },
 "nbformat": 4,
 "nbformat_minor": 2
}
