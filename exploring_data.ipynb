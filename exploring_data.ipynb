{
 "cells": [
  {
   "cell_type": "markdown",
   "metadata": {},
   "source": [
    "## Library imports\n",
    "\n",
    "This section will contain the libraries for the development of the project."
   ]
  },
  {
   "cell_type": "code",
   "execution_count": 12,
   "metadata": {},
   "outputs": [],
   "source": [
    "import pandas as pd\n",
    "import seaborn as sns\n",
    "import matplotlib.pyplot as plt"
   ]
  },
  {
   "cell_type": "markdown",
   "metadata": {},
   "source": [
    "## Initial data exploration\n",
    "\n",
    "A first review of the dataset will be performed in order to know its general structure, distribution of values and main characteristics. In addition, the quality of the information will be evaluated by detecting missing values, inconsistent data types and possible duplicates."
   ]
  },
  {
   "cell_type": "code",
   "execution_count": null,
   "metadata": {},
   "outputs": [
    {
     "name": "stdout",
     "output_type": "stream",
     "text": [
      "<class 'pandas.core.frame.DataFrame'>\n",
      "RangeIndex: 2952 entries, 0 to 2951\n",
      "Data columns (total 10 columns):\n",
      " #   Column               Non-Null Count  Dtype  \n",
      "---  ------               --------------  -----  \n",
      " 0   Brand                2952 non-null   object \n",
      " 1   Product_Description  2952 non-null   object \n",
      " 2   Screen_Size          2952 non-null   float64\n",
      " 3   RAM                  2952 non-null   object \n",
      " 4   Processor            2952 non-null   object \n",
      " 5   GPU                  2604 non-null   object \n",
      " 6   GPU_Type             2718 non-null   object \n",
      " 7   Resolution           2565 non-null   object \n",
      " 8   Condition            2952 non-null   object \n",
      " 9   Price                2952 non-null   float64\n",
      "dtypes: float64(2), object(8)\n",
      "memory usage: 230.8+ KB\n",
      "None\n",
      "       Screen_Size        Price\n",
      "count  2952.000000  2952.000000\n",
      "mean     14.550237   517.552805\n",
      "std       1.175322   235.592872\n",
      "min      10.000000     0.000000\n",
      "25%      14.000000   325.990000\n",
      "50%      14.000000   489.990000\n",
      "75%      15.600000   699.000000\n",
      "max      18.000000   999.990000\n",
      "Brand                    0\n",
      "Product_Description      0\n",
      "Screen_Size              0\n",
      "RAM                      0\n",
      "Processor                0\n",
      "GPU                    348\n",
      "GPU_Type               234\n",
      "Resolution             387\n",
      "Condition                0\n",
      "Price                    0\n",
      "dtype: int64\n",
      "0\n"
     ]
    }
   ],
   "source": [
    "df = pd.read_csv(\"Laptop_prices.csv\")  \n",
    "print(df.info())\n",
    "print(df.describe())\n",
    "print(df.isnull().sum())\n",
    "print(df.duplicated().sum())"
   ]
  },
  {
   "cell_type": "code",
   "execution_count": null,
   "metadata": {},
   "outputs": [],
   "source": []
  },
  {
   "cell_type": "code",
   "execution_count": 24,
   "metadata": {},
   "outputs": [
    {
     "name": "stdout",
     "output_type": "stream",
     "text": [
      "['Very Good - Refurbished' 'New' 'Open box' 'Excellent - Refurbished'\n",
      " 'Good - Refurbished']\n"
     ]
    }
   ],
   "source": [
    "print(df['Condition'].unique())\n",
    "#print(df['GPU'].apply(lambda x: x.split()[0] if isinstance(x, str) else None).unique())\n"
   ]
  },
  {
   "cell_type": "markdown",
   "metadata": {},
   "source": [
    "## Exploratory Data Analysis (EDA)\n",
    "Price distribution"
   ]
  }
 ],
 "metadata": {
  "kernelspec": {
   "display_name": "Python 3",
   "language": "python",
   "name": "python3"
  },
  "language_info": {
   "codemirror_mode": {
    "name": "ipython",
    "version": 3
   },
   "file_extension": ".py",
   "mimetype": "text/x-python",
   "name": "python",
   "nbconvert_exporter": "python",
   "pygments_lexer": "ipython3",
   "version": "3.13.2"
  }
 },
 "nbformat": 4,
 "nbformat_minor": 2
}
